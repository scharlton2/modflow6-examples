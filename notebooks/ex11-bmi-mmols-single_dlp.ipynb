{
 "cells": [
  {
   "cell_type": "markdown",
   "id": "429fb06c",
   "metadata": {
    "lines_to_next_cell": 2
   },
   "source": [
    "## One-Dimensional Steady Flow with Transport\n",
    "\n",
    "phreeqc ex11\n",
    "\n"
   ]
  },
  {
   "cell_type": "markdown",
   "id": "1671df89",
   "metadata": {},
   "source": [
    "### One-Dimensional Steady Flow with Transport Problem Setup"
   ]
  },
  {
   "cell_type": "markdown",
   "id": "9fa9c9fa",
   "metadata": {},
   "source": [
    "Imports"
   ]
  },
  {
   "cell_type": "code",
   "execution_count": 1,
   "id": "a3a5ed54",
   "metadata": {},
   "outputs": [],
   "source": [
    "import os\n",
    "import sys"
   ]
  },
  {
   "cell_type": "code",
   "execution_count": 2,
   "id": "266377c7",
   "metadata": {},
   "outputs": [],
   "source": [
    "import flopy\n",
    "import matplotlib.pyplot as plt\n",
    "import numpy as np"
   ]
  },
  {
   "cell_type": "code",
   "execution_count": 3,
   "id": "3881f3af",
   "metadata": {},
   "outputs": [],
   "source": [
    "import modflowapi\n",
    "from modflowapi import Callbacks\n",
    "from pathlib import Path"
   ]
  },
  {
   "cell_type": "code",
   "execution_count": 4,
   "id": "915df37a",
   "metadata": {},
   "outputs": [],
   "source": [
    "import phreeqcrm\n",
    "##from phreeqcrm import BMIPhreeqcRM\n",
    "##import phreeqcrm as rm\n",
    "##import phreeqcrm as phrqcrm\n",
    "import shutil"
   ]
  },
  {
   "cell_type": "markdown",
   "id": "00dee7ca",
   "metadata": {},
   "source": [
    "Append to system path to include the common subdirectory"
   ]
  },
  {
   "cell_type": "code",
   "execution_count": 5,
   "id": "91c4b922",
   "metadata": {},
   "outputs": [],
   "source": [
    "sys.path.append(os.path.join(\"..\", \"common\"))"
   ]
  },
  {
   "cell_type": "markdown",
   "id": "0dcd267c",
   "metadata": {},
   "source": [
    "Import common functionality"
   ]
  },
  {
   "cell_type": "code",
   "execution_count": 6,
   "id": "d92da603",
   "metadata": {},
   "outputs": [],
   "source": [
    "import analytical\n",
    "import config\n",
    "from figspecs import USGSFigure"
   ]
  },
  {
   "cell_type": "markdown",
   "id": "617d3608",
   "metadata": {},
   "source": [
    "Set figure properties specific to this problem"
   ]
  },
  {
   "cell_type": "code",
   "execution_count": 7,
   "id": "9d31c657",
   "metadata": {},
   "outputs": [],
   "source": [
    "figure_size = (5, 3)\n",
    "#figure_size = None"
   ]
  },
  {
   "cell_type": "markdown",
   "id": "a33ceb07",
   "metadata": {},
   "source": [
    "Base simulation and model name and workspace"
   ]
  },
  {
   "cell_type": "code",
   "execution_count": 8,
   "id": "91aba9df",
   "metadata": {},
   "outputs": [],
   "source": [
    "ws = config.base_ws\n",
    "example_name = \"moc\""
   ]
  },
  {
   "cell_type": "code",
   "execution_count": 9,
   "id": "147775d3",
   "metadata": {},
   "outputs": [],
   "source": [
    "from contextlib import contextmanager\n",
    "@contextmanager\n",
    "def change_directory(new_dir):\n",
    "    original_dir = os.getcwd()  # Get the current working directory\n",
    "\n",
    "    # Convert relative path to an absolute path\n",
    "    new_dir = os.path.abspath(new_dir)\n",
    "    \n",
    "    # Check if the directory exists; if not, create it\n",
    "    if not os.path.exists(new_dir):\n",
    "        os.makedirs(new_dir)\n",
    "\n",
    "    try:\n",
    "        os.chdir(new_dir)  # Change to the specified directory\n",
    "        yield\n",
    "    finally:\n",
    "        os.chdir(original_dir)  # Change back to the original directory when done"
   ]
  },
  {
   "cell_type": "markdown",
   "id": "20ce23c6",
   "metadata": {},
   "source": [
    "Scenario parameters - make sure there is at least one blank line before next item"
   ]
  },
  {
   "cell_type": "code",
   "execution_count": 10,
   "id": "04fc42f4",
   "metadata": {},
   "outputs": [],
   "source": [
    "parameters = {\n",
    "    \"ex11-bmi-mmols-single\": {\n",
    "        \"longitudinal_dispersivity\": 0.0,\n",
    "    },\n",
    "}"
   ]
  },
  {
   "cell_type": "markdown",
   "id": "598e56c7",
   "metadata": {},
   "source": [
    "Scenario parameter units - make sure there is at least one blank line before next item\n",
    "add parameter_units to add units to the scenario parameter table"
   ]
  },
  {
   "cell_type": "code",
   "execution_count": 11,
   "id": "22cc9951",
   "metadata": {},
   "outputs": [],
   "source": [
    "parameter_units = {\n",
    "    \"longitudinal_dispersivity\": \"$m$\",\n",
    "}"
   ]
  },
  {
   "cell_type": "markdown",
   "id": "72c430c8",
   "metadata": {},
   "source": [
    "Model units"
   ]
  },
  {
   "cell_type": "code",
   "execution_count": 12,
   "id": "1c566f9b",
   "metadata": {},
   "outputs": [],
   "source": [
    "length_units = \"METERS\"    # m\n",
    "time_units = \"seconds\"     # s"
   ]
  },
  {
   "cell_type": "markdown",
   "id": "beb8d83d",
   "metadata": {},
   "source": [
    "Table of model parameters"
   ]
  },
  {
   "cell_type": "code",
   "execution_count": 13,
   "id": "06051f9e",
   "metadata": {},
   "outputs": [],
   "source": [
    "nper = 1                      # Number of periods\n",
    "nlay = 1                      # Number of layers\n",
    "nrow = 1                      # Number of rows\n",
    "ncol = 40                     # Number of columns\n",
    "system_length = .08           # Length of system ($m$)\n",
    "delr = 0.002                  # Column width ($m$)\n",
    "delc = 1.0                    # Row width ($m$)\n",
    "top = 1.0                     # Top of the model ($m$)\n",
    "botm = 0                      # Layer bottom elevation ($m$)\n",
    "specific_discharge = 1./720.  # Specific discharge ($m s^{-1}$)\n",
    "hydraulic_conductivity = 1.0  # Hydraulic conductivity ($m s^{-1}$)\n",
    "porosity = 1.0                # Porosity of mobile domain (unitless)\n",
    "total_time = 72000.0          # Simulation time ($s$)\n",
    "concentration_factor = 1000.  # Scale factor ($millmoles/mole$)\n"
   ]
  },
  {
   "cell_type": "markdown",
   "id": "d1d52b73",
   "metadata": {},
   "source": [
    "Create yaml for phreeqcrm initialize()"
   ]
  },
  {
   "cell_type": "code",
   "execution_count": 14,
   "id": "1c885c40",
   "metadata": {},
   "outputs": [],
   "source": [
    "def setup_phreeqcrm(sim_folder):\n",
    "    \n",
    "    ##os.chdir(sys.path[0])\n",
    "    notebook_directory = sys.path[0]    \n",
    "    assert(os.getcwd() == notebook_directory)\n",
    "\n",
    "    assert(sim_folder == \"ex11-bmi-mmols-single\")\n",
    "    \n",
    "    # get abspath before change_directory\n",
    "    sim_ws = os.path.abspath(os.path.join(ws, sim_folder, \"phreeqcrm\"))\n",
    "\n",
    "    with change_directory(sim_ws):\n",
    "        \n",
    "        # copy phreeqc.dat to sim_ws\n",
    "        source_file = os.path.join(notebook_directory, 'phreeqc.dat')\n",
    "        shutil.copy(source_file, sim_ws)\n",
    "\n",
    "        # copy advect.pqi to sim_ws\n",
    "        source_file = os.path.join(notebook_directory, 'advect.pqi')\n",
    "        shutil.copy(source_file, sim_ws)\n",
    "    \n",
    "        # Create YAMLPhreeqcRM document\n",
    "        yrm = phreeqcrm.YAMLPhreeqcRM()\n",
    "\n",
    "        # Number of cells\n",
    "        nxyz = nlay*nrow*ncol\n",
    "\n",
    "        # Set GridCellCount\n",
    "        yrm.YAMLSetGridCellCount(nxyz)\n",
    "\n",
    "        # Set some properties\n",
    "        yrm.YAMLSetErrorHandlerMode(1)\n",
    "        yrm.YAMLSetComponentH2O(False)\n",
    "        yrm.YAMLSetRebalanceFraction(0.5)\n",
    "        yrm.YAMLSetRebalanceByCell(True)\n",
    "        yrm.YAMLUseSolutionDensityVolume(False)\n",
    "        yrm.YAMLSetPartitionUZSolids(False)\n",
    "\n",
    "        # Set concentration units\n",
    "        yrm.YAMLSetUnitsSolution(2)           # 1, mg/L; 2, mol/L; 3, kg/kgs\n",
    "        yrm.YAMLSetUnitsPPassemblage(1)       # 0, mol/L cell; 1, mol/L water; 2 mol/L rock\n",
    "        yrm.YAMLSetUnitsExchange(1)           # 0, mol/L cell; 1, mol/L water; 2 mol/L rock\n",
    "        yrm.YAMLSetUnitsSurface(1)            # 0, mol/L cell; 1, mol/L water; 2 mol/L rock\n",
    "        yrm.YAMLSetUnitsGasPhase(1)           # 0, mol/L cell; 1, mol/L water; 2 mol/L rock\n",
    "        yrm.YAMLSetUnitsSSassemblage(1)       # 0, mol/L cell; 1, mol/L water; 2 mol/L rock\n",
    "        yrm.YAMLSetUnitsKinetics(1)           # 0, mol/L cell; 1, mol/L water; 2 mol/L rock\n",
    "\n",
    "        # Set conversion from seconds to user units (days) Only affects one print statement\n",
    "        time_conversion = 1.0 / 86400.0\n",
    "        yrm.YAMLSetTimeConversion(time_conversion)\n",
    "\n",
    "        # Set representative volume\n",
    "        rv = [1] * nxyz\n",
    "        yrm.YAMLSetRepresentativeVolume(rv)\n",
    "\n",
    "        # Set initial density\n",
    "        density = [1.0] * nxyz\n",
    "        yrm.YAMLSetDensityUser(density)\n",
    "\n",
    "        # Set initial porosity\n",
    "        por = [0.2] * nxyz\n",
    "        yrm.YAMLSetPorosity(por)\n",
    "\n",
    "        # Set initial saturation\n",
    "        sat = [1] * nxyz\n",
    "        yrm.YAMLSetSaturationUser(sat)\n",
    "\n",
    "        # Load database\n",
    "        yrm.YAMLLoadDatabase(\"phreeqc.dat\")\n",
    "\n",
    "        # Run file to define solutions and reactants for initial conditions, selected output\n",
    "        workers = True             # Worker instances do the reaction calculations for transport\n",
    "        initial_phreeqc = True     # InitialPhreeqc instance accumulates initial and boundary conditions\n",
    "        utility = True             # Utility instance is available for processing\n",
    "        yrm.YAMLRunFile(workers, initial_phreeqc, utility, \"advect.pqi\")\n",
    "\n",
    "        # Clear contents of workers and utility\n",
    "        initial_phreeqc = False\n",
    "        input = \"DELETE; -all\"\n",
    "        yrm.YAMLRunString(workers, initial_phreeqc, utility, input)\n",
    "        yrm.YAMLAddOutputVars(\"AddOutputVars\", \"true\")\n",
    "\n",
    "        # Determine number of components to transport\n",
    "        yrm.YAMLFindComponents()\n",
    "\n",
    "        # initial solutions\n",
    "        initial_solutions = [1] * nxyz\n",
    "        yrm.YAMLInitialSolutions2Module(initial_solutions)\n",
    "\n",
    "        # initial exchanges\n",
    "        initial_exchanges = [1] * nxyz\n",
    "        yrm.YAMLInitialExchanges2Module(initial_exchanges)\n",
    "\n",
    "        # Write YAML file\n",
    "        yrm.WriteYAMLDoc(\"ex11-advect.yaml\")\n",
    "        \n",
    "    return \"ex11-advect.yaml\""
   ]
  },
  {
   "cell_type": "code",
   "execution_count": 15,
   "id": "a81ce853",
   "metadata": {},
   "outputs": [],
   "source": [
    "def build_phreeqcrm(sim_folder):\n",
    "    yaml = setup_phreeqcrm(sim_folder)\n",
    "    \n",
    "    rm = None\n",
    "    try:\n",
    "        # get abspath before change_directory\n",
    "        sim_ws = os.path.abspath(os.path.join(ws, sim_folder, \"phreeqcrm\"))\n",
    "        \n",
    "        rm = phreeqcrm.BMIPhreeqcRM()\n",
    "        with change_directory(sim_ws):\n",
    "            rm.initialize(yaml)\n",
    "            \n",
    "        rm.solutes = rm.get_value_ptr(\"Components\")\n",
    "        ncomps     = rm.get_value_ptr(\"ComponentCount\")[0]\n",
    "\n",
    "        nxyz = nlay*nrow*ncol\n",
    "        assert nxyz == rm.get_value_ptr(\"GridCellCount\")[0]        \n",
    "        \n",
    "        # Get initial concentrations\n",
    "        rm.initial_solution = rm.get_value_ptr(\"Concentrations\")[::nxyz]\n",
    "        assert len(rm.initial_solution) == ncomps\n",
    "\n",
    "        # Set boundary condition\n",
    "        bc1 = [0]           # solution 0 from Initial IPhreeqc instance\n",
    "        rm.influent_concentration = rm.InitialPhreeqc2Concentrations(bc1)\n",
    "\n",
    "        # Convert to millimoles\n",
    "        rm.initial_solution       = rm.initial_solution * concentration_factor\n",
    "        rm.influent_concentration = rm.influent_concentration * concentration_factor\n",
    "            \n",
    "    except:\n",
    "        raise RuntimeError(\"build_phreeqcrm failed\")\n",
    "    return rm"
   ]
  },
  {
   "cell_type": "markdown",
   "id": "defe2f49",
   "metadata": {
    "lines_to_next_cell": 2
   },
   "source": [
    "### Functions to build, write, run, and plot models\n",
    "\n",
    "MODFLOW 6 flopy GWF simulation object (sim) is returned\n"
   ]
  },
  {
   "cell_type": "code",
   "execution_count": 16,
   "id": "38f7b06c",
   "metadata": {},
   "outputs": [],
   "source": [
    "def build_mf6gwfgwt(sim_folder, solutes, influent_concentration, initial_solution, longitudinal_dispersivity):\n",
    "    name = \"flow\"\n",
    "    sim_ws = os.path.join(ws, sim_folder, \"mf6gwfgwt\")\n",
    "    sim = flopy.mf6.MFSimulation(\n",
    "        sim_name=name, sim_ws=sim_ws, exe_name=\"mf6\"\n",
    "    )\n",
    "    tdis_ds = ((total_time, 240, 1.0),)    \n",
    "    flopy.mf6.ModflowTdis(sim, nper=nper, perioddata=tdis_ds, time_units=time_units)\n",
    "    ims = flopy.mf6.ModflowIms(sim, filename=f\"{name}.ims\")\n",
    "    \n",
    "    gwf = flopy.mf6.ModflowGwf(sim, modelname=name, save_flows=True)\n",
    "    sim.register_ims_package(ims, [gwf.name])\n",
    "    flopy.mf6.ModflowGwfdis(\n",
    "        gwf,\n",
    "        length_units=length_units,\n",
    "        nlay=nlay,\n",
    "        nrow=nrow,\n",
    "        ncol=ncol,\n",
    "        delr=delr,\n",
    "        delc=delc,\n",
    "        top=top,\n",
    "        botm=botm,\n",
    "    )\n",
    "    flopy.mf6.ModflowGwfnpf(\n",
    "        gwf,\n",
    "        save_specific_discharge=True,\n",
    "        save_saturation=True,\n",
    "        icelltype=0,\n",
    "        k=hydraulic_conductivity,\n",
    "    )\n",
    "    flopy.mf6.ModflowGwfic(gwf, strt=1.0)\n",
    "    flopy.mf6.ModflowGwfchd(gwf, stress_period_data=[[(0, 0, ncol - 1), 1.0]])\n",
    "    wel_spd = {\n",
    "        0: [\n",
    "            [\n",
    "                (0, 0, 0),\n",
    "                specific_discharge * delc * delr,   # m^3/s\n",
    "                *influent_concentration,\n",
    "            ]\n",
    "        ],\n",
    "    }\n",
    "    \n",
    "    flopy.mf6.ModflowGwfwel(\n",
    "        gwf,\n",
    "        stress_period_data=wel_spd,\n",
    "        pname=\"WEL-1\",\n",
    "        auxiliary=solutes.tolist()\n",
    "    )\n",
    "    head_filerecord = f\"{name}.hds\"\n",
    "    budget_filerecord = f\"{name}.bud\"\n",
    "    flopy.mf6.ModflowGwfoc(\n",
    "        gwf,\n",
    "        head_filerecord=head_filerecord,\n",
    "        budget_filerecord=budget_filerecord,\n",
    "        saverecord=[(\"HEAD\", \"ALL\"), (\"BUDGET\", \"ALL\")],\n",
    "    )\n",
    "    \n",
    "    # set vars for use in run_model\n",
    "    sim.sim_ws = sim_ws\n",
    "    \n",
    "    # @todo update for other OSs\n",
    "    sim.libmf6 = Path(os.path.join(os.environ[\"USERPROFILE\"], \"AppData\\\\Local\\\\flopy\\\\bin\", \"libmf6\"))\n",
    "    \n",
    "    # build transports\n",
    "    for i, solute in enumerate(solutes):\n",
    "        name = f\"trans.{solute}\"\n",
    "        gwt = flopy.mf6.ModflowGwt(sim, modelname=name, save_flows=True)\n",
    "        \n",
    "        imsgwt = flopy.mf6.ModflowIms(sim, linear_acceleration=\"bicgstab\", filename=f\"{gwt.name}.ims\")\n",
    "        sim.register_ims_package(imsgwt, [gwt.name])\n",
    "        \n",
    "        flopy.mf6.ModflowGwtdis(\n",
    "            gwt,\n",
    "            length_units=length_units,\n",
    "            nlay=nlay,\n",
    "            nrow=nrow,\n",
    "            ncol=ncol,\n",
    "            delr=delr,\n",
    "            delc=delc,\n",
    "            top=top,\n",
    "            botm=botm,\n",
    "        )\n",
    "        \n",
    "        flopy.mf6.ModflowGwtic(gwt, strt=initial_solution[i], filename=f\"{gwt.name}.ic\")\n",
    "        \n",
    "        flopy.mf6.ModflowGwtmst(\n",
    "            gwt,\n",
    "            porosity=porosity,\n",
    "        )\n",
    "        \n",
    "        flopy.mf6.ModflowGwtadv(gwt, scheme=\"TVD\")\n",
    "        flopy.mf6.ModflowGwtdsp(\n",
    "            gwt,\n",
    "            xt3d_off=True,\n",
    "            alh=longitudinal_dispersivity,\n",
    "            ath1=longitudinal_dispersivity,\n",
    "        )\n",
    "        \n",
    "        sourcerecarray = [[\"WEL-1\", \"AUX\", solute]]\n",
    "        flopy.mf6.ModflowGwtssm(gwt, sources=sourcerecarray)\n",
    "        obs_data = {\n",
    "            f\"{solute}.obs.csv\": [\n",
    "                (\"CELL00\", \"CONCENTRATION\", (0, 0, 0)),\n",
    "                (\"CELL01\", \"CONCENTRATION\", (0, 0, 1)),\n",
    "                (\"CELL02\", \"CONCENTRATION\", (0, 0, 2)),\n",
    "                (\"CELL03\", \"CONCENTRATION\", (0, 0, 3)),\n",
    "                (\"CELL04\", \"CONCENTRATION\", (0, 0, 4)),\n",
    "                (\"CELL05\", \"CONCENTRATION\", (0, 0, 5)),\n",
    "                (\"CELL06\", \"CONCENTRATION\", (0, 0, 6)),\n",
    "                (\"CELL07\", \"CONCENTRATION\", (0, 0, 7)),\n",
    "                (\"CELL08\", \"CONCENTRATION\", (0, 0, 8)),\n",
    "                (\"CELL09\", \"CONCENTRATION\", (0, 0, 9)),\n",
    "                (\"CELL10\", \"CONCENTRATION\", (0, 0, 10)),\n",
    "                (\"CELL11\", \"CONCENTRATION\", (0, 0, 11)),\n",
    "                (\"CELL12\", \"CONCENTRATION\", (0, 0, 12)),\n",
    "                (\"CELL13\", \"CONCENTRATION\", (0, 0, 13)),\n",
    "                (\"CELL14\", \"CONCENTRATION\", (0, 0, 14)),\n",
    "                (\"CELL15\", \"CONCENTRATION\", (0, 0, 15)),\n",
    "                (\"CELL16\", \"CONCENTRATION\", (0, 0, 16)),\n",
    "                (\"CELL17\", \"CONCENTRATION\", (0, 0, 17)),\n",
    "                (\"CELL18\", \"CONCENTRATION\", (0, 0, 18)),\n",
    "                (\"CELL19\", \"CONCENTRATION\", (0, 0, 19)),\n",
    "                (\"CELL20\", \"CONCENTRATION\", (0, 0, 20)),\n",
    "                (\"CELL21\", \"CONCENTRATION\", (0, 0, 21)),\n",
    "                (\"CELL22\", \"CONCENTRATION\", (0, 0, 22)),\n",
    "                (\"CELL23\", \"CONCENTRATION\", (0, 0, 23)),\n",
    "                (\"CELL24\", \"CONCENTRATION\", (0, 0, 24)),\n",
    "                (\"CELL25\", \"CONCENTRATION\", (0, 0, 25)),\n",
    "                (\"CELL26\", \"CONCENTRATION\", (0, 0, 26)),\n",
    "                (\"CELL27\", \"CONCENTRATION\", (0, 0, 27)),\n",
    "                (\"CELL28\", \"CONCENTRATION\", (0, 0, 28)),\n",
    "                (\"CELL29\", \"CONCENTRATION\", (0, 0, 29)),\n",
    "                (\"CELL30\", \"CONCENTRATION\", (0, 0, 30)),\n",
    "                (\"CELL31\", \"CONCENTRATION\", (0, 0, 31)),\n",
    "                (\"CELL32\", \"CONCENTRATION\", (0, 0, 32)),\n",
    "                (\"CELL33\", \"CONCENTRATION\", (0, 0, 33)),\n",
    "                (\"CELL34\", \"CONCENTRATION\", (0, 0, 34)),\n",
    "                (\"CELL35\", \"CONCENTRATION\", (0, 0, 35)),\n",
    "                (\"CELL36\", \"CONCENTRATION\", (0, 0, 36)),\n",
    "                (\"CELL37\", \"CONCENTRATION\", (0, 0, 37)),\n",
    "                (\"CELL38\", \"CONCENTRATION\", (0, 0, 38)),\n",
    "                (\"CELL39\", \"CONCENTRATION\", (0, 0, 39)),\n",
    "            ],\n",
    "        }\n",
    "        obs_package = flopy.mf6.ModflowUtlobs(\n",
    "            gwt, digits=10, print_input=True, continuous=obs_data\n",
    "        )\n",
    "        flopy.mf6.ModflowGwtoc(\n",
    "            gwt,\n",
    "            budget_filerecord=f\"{gwt.name}.cbc\",\n",
    "            concentration_filerecord=f\"{gwt.name}.ucn\",\n",
    "            saverecord=[(\"CONCENTRATION\", \"ALL\"), (\"BUDGET\", \"LAST\")],\n",
    "            printrecord=[(\"CONCENTRATION\", \"LAST\"), (\"BUDGET\", \"LAST\")],\n",
    "        )\n",
    "        \n",
    "        flopy.mf6.ModflowGwfgwt(\n",
    "            sim, exgtype=\"GWF6-GWT6\", exgmnamea=gwf.name, exgmnameb=gwt.name, filename=f\"{gwf.name}-{gwt.name}.gwfgwt\"\n",
    "        )        \n",
    "\n",
    "    return sim"
   ]
  },
  {
   "cell_type": "markdown",
   "id": "4ff21e5c",
   "metadata": {
    "lines_to_next_cell": 2
   },
   "source": [
    "MODFLOW 6 flopy GWF simulation object (sim) is returned"
   ]
  },
  {
   "cell_type": "code",
   "execution_count": 17,
   "id": "93b506a5",
   "metadata": {
    "lines_to_next_cell": 2
   },
   "outputs": [],
   "source": [
    "def build_model(sim_name, longitudinal_dispersivity):\n",
    "    sims = None\n",
    "    if config.buildModel:\n",
    "        # build_phreeqcrm\n",
    "        sim_phreeqcrm = build_phreeqcrm(sim_name)\n",
    "        \n",
    "        solutes                = sim_phreeqcrm.solutes        \n",
    "        initial_solution       = sim_phreeqcrm.initial_solution\n",
    "        influent_concentration = sim_phreeqcrm.influent_concentration\n",
    "        \n",
    "        sim_mf6gwf = build_mf6gwfgwt(sim_name, solutes, influent_concentration, initial_solution, longitudinal_dispersivity)\n",
    "        sims = (sim_phreeqcrm, sim_mf6gwf)\n",
    "    return sims"
   ]
  },
  {
   "cell_type": "markdown",
   "id": "dd0d31f2",
   "metadata": {
    "lines_to_next_cell": 2
   },
   "source": [
    "Function to write model files"
   ]
  },
  {
   "cell_type": "code",
   "execution_count": 18,
   "id": "62336ab8",
   "metadata": {
    "lines_to_next_cell": 2
   },
   "outputs": [],
   "source": [
    "def write_model(sims, silent=True):\n",
    "    if config.writeModel:\n",
    "        _, sim_mf6gwf = sims\n",
    "        sim_mf6gwf.write_simulation(silent=silent)\n",
    "    return"
   ]
  },
  {
   "cell_type": "markdown",
   "id": "0e2ab143",
   "metadata": {
    "lines_to_next_cell": 2
   },
   "source": [
    "Function to run the model\n",
    "True is returned if the model runs successfully"
   ]
  },
  {
   "cell_type": "code",
   "execution_count": 19,
   "id": "0cb98454",
   "metadata": {},
   "outputs": [],
   "source": [
    "@config.timeit\n",
    "def run_model(sims, silent=True):\n",
    "    success = True\n",
    "    if config.runModel:\n",
    "        phreeqcrm, sim_mf6gwf = sims\n",
    "        concs = phreeqcrm.get_value_ptr(\"Concentrations\")\n",
    "        \n",
    "        mf6api = modflowapi.ModflowApi(sim_mf6gwf.libmf6, working_directory=sim_mf6gwf.sim_ws)\n",
    "        mf6api.initialize()\n",
    "        \n",
    "        input_var_names = mf6api.get_input_var_names()\n",
    "        nxyz = nlay*nrow*ncol\n",
    "        current_time = mf6api.get_current_time()\n",
    "        end_time     = mf6api.get_end_time()\n",
    "        while current_time < end_time:\n",
    "            mf6api.update()\n",
    "            for i, solute in enumerate(phreeqcrm.solutes):\n",
    "                conc = mf6api.get_value_ptr(f\"TRANS.{solute.upper()}/X\")\n",
    "                concs[i*nxyz:(i+1)*nxyz] = conc / concentration_factor\n",
    "            phreeqcrm.update()\n",
    "            for i, solute in enumerate(phreeqcrm.solutes):\n",
    "                conc = mf6api.get_value_ptr(f\"TRANS.{solute.upper()}/X\")                \n",
    "                conc = concs[i*nxyz:(i+1)*nxyz] * concentration_factor\n",
    "            current_time = mf6api.get_current_time()\n",
    "        mf6api.finalize()\n",
    "        if not silent:\n",
    "            print(\"NORMAL TERMINATION OF SIMULATION\")\n",
    "    return success"
   ]
  },
  {
   "cell_type": "markdown",
   "id": "0bf39137",
   "metadata": {
    "lines_to_next_cell": 2
   },
   "source": [
    "Function to plot the model results"
   ]
  },
  {
   "cell_type": "code",
   "execution_count": 20,
   "id": "c14c001d",
   "metadata": {},
   "outputs": [],
   "source": [
    "def plot_results_ct(\n",
    "    sims, idx, solutes_idx, solutes, longitudinal_dispersivity\n",
    "):\n",
    "    if config.plotModel:\n",
    "        _, sim_mf6gwf = sims\n",
    "        fs = USGSFigure(figure_type=\"graph\", verbose=False)\n",
    "\n",
    "        sim_ws = sim_mf6gwf.simulation_data.mfpath.get_sim_path()\n",
    "        \n",
    "        mf6gwt_ra = sim_mf6gwf.get_model(f\"trans.{solutes[solutes_idx]}\").obs.output.obs().data\n",
    "        fig, axs = plt.subplots(1, 1, figsize=figure_size, dpi=300, tight_layout=True)\n",
    "        iskip = 5\n",
    "        \n",
    "        obsnames = [\"CELL39\"]\n",
    "        simtimes = mf6gwt_ra[\"totim\"]\n",
    "        \n",
    "        dispersion_coefficient = (\n",
    "            longitudinal_dispersivity * specific_discharge\n",
    "        )\n",
    "        colors=[\"blue\", \"red\", \"green\"]\n",
    "        for i, x in enumerate([0.079]):\n",
    "            axs.plot(\n",
    "                simtimes[::iskip]/28800.,\n",
    "                mf6gwt_ra[obsnames[i]][::iskip],\n",
    "                marker=\"o\",\n",
    "                ls=\"none\",\n",
    "                mec=colors[i],\n",
    "                mfc=\"none\",\n",
    "                markersize=\"4\",\n",
    "                label=obsnames[i],\n",
    "            )\n",
    "        axs.set_xlabel(\"Pore volumes\")\n",
    "        axs.set_ylabel(f\"{solutes[solutes_idx]} Concentration (mmol/kgw)\")            \n",
    "        axs.legend()\n",
    "\n",
    "        # save figure\n",
    "        if config.plotSave:\n",
    "            sim_folder = os.path.split(sim_ws)[0]\n",
    "            sim_folder = os.path.basename(sim_folder)\n",
    "            fname = f\"{sim_folder}-ct{config.figure_ext}\"\n",
    "            fpth = os.path.join(ws, \"..\", \"figures\", fname)\n",
    "            fig.savefig(fpth)"
   ]
  },
  {
   "cell_type": "markdown",
   "id": "7a542a12",
   "metadata": {
    "lines_to_next_cell": 2
   },
   "source": [
    "Function that wraps all of the steps for each scenario\n",
    "\n",
    "1. build_model,\n",
    "2. write_model,\n",
    "3. run_model, and\n",
    "4. plot_results.\n"
   ]
  },
  {
   "cell_type": "code",
   "execution_count": 21,
   "id": "9254e320",
   "metadata": {},
   "outputs": [],
   "source": [
    "def scenario(idx, silent=True):\n",
    "    key = list(parameters.keys())[idx]\n",
    "    parameter_dict = parameters[key]\n",
    "\n",
    "    sims = build_model(key, **parameter_dict)\n",
    "    write_model(sims, silent=silent)\n",
    "    success = run_model(sims, silent=silent)\n",
    "    assert(success)\n",
    "    \n",
    "    if success:\n",
    "        phreeqcrm, sim_mf6gwf = sims\n",
    "        solutes = phreeqcrm.solutes\n",
    "        for sidx, solute in enumerate(solutes):\n",
    "            if sidx > 2:\n",
    "                plot_results_ct(sims, idx, sidx, solutes, **parameter_dict)\n",
    "                #plot_results_cd(sims, idx, sidx, solutes, **parameter_dict)\n",
    "    "
   ]
  },
  {
   "cell_type": "code",
   "execution_count": 22,
   "id": "d3e55848",
   "metadata": {},
   "outputs": [],
   "source": [
    "def test_01():\n",
    "    scenario(0, silent=False)"
   ]
  },
  {
   "cell_type": "code",
   "execution_count": 23,
   "id": "0542ad2b",
   "metadata": {},
   "outputs": [
    {
     "ename": "TypeError",
     "evalue": "PhreeqcRM.GetIthConcentration() takes 2 positional arguments but 3 were given",
     "output_type": "error",
     "traceback": [
      "\u001b[1;31m---------------------------------------------------------------------------\u001b[0m",
      "\u001b[1;31mTypeError\u001b[0m                                 Traceback (most recent call last)",
      "Cell \u001b[1;32mIn[23], line 2\u001b[0m\n\u001b[0;32m      1\u001b[0m \u001b[38;5;28;01mif\u001b[39;00m \u001b[38;5;18m__name__\u001b[39m \u001b[38;5;241m==\u001b[39m \u001b[38;5;124m\"\u001b[39m\u001b[38;5;124m__main__\u001b[39m\u001b[38;5;124m\"\u001b[39m:\n\u001b[1;32m----> 2\u001b[0m     \u001b[43mscenario\u001b[49m\u001b[43m(\u001b[49m\u001b[38;5;241;43m0\u001b[39;49m\u001b[43m)\u001b[49m\n",
      "Cell \u001b[1;32mIn[21], line 7\u001b[0m, in \u001b[0;36mscenario\u001b[1;34m(idx, silent)\u001b[0m\n\u001b[0;32m      5\u001b[0m sims \u001b[38;5;241m=\u001b[39m build_model(key, \u001b[38;5;241m*\u001b[39m\u001b[38;5;241m*\u001b[39mparameter_dict)\n\u001b[0;32m      6\u001b[0m write_model(sims, silent\u001b[38;5;241m=\u001b[39msilent)\n\u001b[1;32m----> 7\u001b[0m success \u001b[38;5;241m=\u001b[39m \u001b[43mrun_model\u001b[49m\u001b[43m(\u001b[49m\u001b[43msims\u001b[49m\u001b[43m,\u001b[49m\u001b[43m \u001b[49m\u001b[43msilent\u001b[49m\u001b[38;5;241;43m=\u001b[39;49m\u001b[43msilent\u001b[49m\u001b[43m)\u001b[49m\n\u001b[0;32m      8\u001b[0m \u001b[38;5;28;01massert\u001b[39;00m(success)\n\u001b[0;32m     10\u001b[0m \u001b[38;5;28;01mif\u001b[39;00m success:\n",
      "File \u001b[1;32mC:\\GitPrograms\\modflow-examples\\notebooks\\..\\common\\config.py:44\u001b[0m, in \u001b[0;36mtimeit.<locals>.timed\u001b[1;34m(*args, **kw)\u001b[0m\n\u001b[0;32m     42\u001b[0m \u001b[38;5;28;01mdef\u001b[39;00m \u001b[38;5;21mtimed\u001b[39m(\u001b[38;5;241m*\u001b[39margs, \u001b[38;5;241m*\u001b[39m\u001b[38;5;241m*\u001b[39mkw):\n\u001b[0;32m     43\u001b[0m     ts \u001b[38;5;241m=\u001b[39m time\u001b[38;5;241m.\u001b[39mtime()\n\u001b[1;32m---> 44\u001b[0m     result \u001b[38;5;241m=\u001b[39m \u001b[43mmethod\u001b[49m\u001b[43m(\u001b[49m\u001b[38;5;241;43m*\u001b[39;49m\u001b[43margs\u001b[49m\u001b[43m,\u001b[49m\u001b[43m \u001b[49m\u001b[38;5;241;43m*\u001b[39;49m\u001b[38;5;241;43m*\u001b[39;49m\u001b[43mkw\u001b[49m\u001b[43m)\u001b[49m\n\u001b[0;32m     45\u001b[0m     te \u001b[38;5;241m=\u001b[39m time\u001b[38;5;241m.\u001b[39mtime()\n\u001b[0;32m     46\u001b[0m     \u001b[38;5;28;01mif\u001b[39;00m \u001b[38;5;124m\"\u001b[39m\u001b[38;5;124mlog_time\u001b[39m\u001b[38;5;124m\"\u001b[39m \u001b[38;5;129;01min\u001b[39;00m kw:\n",
      "Cell \u001b[1;32mIn[19], line 23\u001b[0m, in \u001b[0;36mrun_model\u001b[1;34m(sims, silent)\u001b[0m\n\u001b[0;32m     20\u001b[0m phreeqcrm\u001b[38;5;241m.\u001b[39mupdate()\n\u001b[0;32m     21\u001b[0m \u001b[38;5;28;01mfor\u001b[39;00m i, solute \u001b[38;5;129;01min\u001b[39;00m \u001b[38;5;28menumerate\u001b[39m(phreeqcrm\u001b[38;5;241m.\u001b[39msolutes):\n\u001b[0;32m     22\u001b[0m     \u001b[38;5;66;03m#conc = mf6api.get_value_ptr(f\"TRANS.{solute.upper()}/X\")    \u001b[39;00m\n\u001b[1;32m---> 23\u001b[0m     status \u001b[38;5;241m=\u001b[39m \u001b[43mphreeqcrm\u001b[49m\u001b[38;5;241;43m.\u001b[39;49m\u001b[43mGetIthConcentration\u001b[49m\u001b[43m(\u001b[49m\u001b[43mi\u001b[49m\u001b[43m,\u001b[49m\u001b[43m \u001b[49m\u001b[43mconc\u001b[49m\u001b[43m)\u001b[49m\n\u001b[0;32m     24\u001b[0m     conc \u001b[38;5;241m=\u001b[39m concs[i\u001b[38;5;241m*\u001b[39mnxyz:(i\u001b[38;5;241m+\u001b[39m\u001b[38;5;241m1\u001b[39m)\u001b[38;5;241m*\u001b[39mnxyz] \u001b[38;5;241m*\u001b[39m concentration_factor\n\u001b[0;32m     25\u001b[0m current_time \u001b[38;5;241m=\u001b[39m mf6api\u001b[38;5;241m.\u001b[39mget_current_time()\n",
      "\u001b[1;31mTypeError\u001b[0m: PhreeqcRM.GetIthConcentration() takes 2 positional arguments but 3 were given"
     ]
    }
   ],
   "source": [
    "if __name__ == \"__main__\":\n",
    "    scenario(0)"
   ]
  }
 ],
 "metadata": {
  "jupytext": {
   "cell_metadata_filter": "-all",
   "main_language": "python",
   "notebook_metadata_filter": "-all"
  },
  "kernelspec": {
   "display_name": "Python 3 (ipykernel)",
   "language": "python",
   "name": "python3"
  },
  "language_info": {
   "codemirror_mode": {
    "name": "ipython",
    "version": 3
   },
   "file_extension": ".py",
   "mimetype": "text/x-python",
   "name": "python",
   "nbconvert_exporter": "python",
   "pygments_lexer": "ipython3",
   "version": "3.11.4"
  }
 },
 "nbformat": 4,
 "nbformat_minor": 5
}
